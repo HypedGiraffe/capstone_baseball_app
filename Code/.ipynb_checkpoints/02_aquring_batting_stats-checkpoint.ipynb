{
 "cells": [
  {
   "cell_type": "code",
   "execution_count": 2,
   "id": "a70cbd99-6e08-4eab-8a4e-eb7ef45fca93",
   "metadata": {},
   "outputs": [],
   "source": [
    "from pybaseball import batting_stats\n",
    "import pandas as pd\n",
    "import seaborn as sns\n",
    "import numpy as np"
   ]
  },
  {
   "cell_type": "code",
   "execution_count": 13,
   "id": "90551926-7a59-44d6-b234-6c9059422afa",
   "metadata": {},
   "outputs": [],
   "source": [
    "#Brings in both seasonal and career batting statistics for players in the MLB from 1980 until 2020\n",
    "seasonal_batting = batting_stats(1980, 2020, ind=1)"
   ]
  },
  {
   "cell_type": "code",
   "execution_count": 9,
   "id": "806eef10-ea4a-435c-831e-c92521c1b594",
   "metadata": {},
   "outputs": [],
   "source": [
    "career_batting = batting_stats(1980, 2020, qual = 200, ind=0)"
   ]
  },
  {
   "cell_type": "code",
   "execution_count": 10,
   "id": "9b283c9a-7216-426b-b7cc-a5715eb22308",
   "metadata": {},
   "outputs": [
    {
     "data": {
      "text/plain": [
       "3110"
      ]
     },
     "execution_count": 10,
     "metadata": {},
     "output_type": "execute_result"
    }
   ],
   "source": [
    "len(career_batting)"
   ]
  },
  {
   "cell_type": "code",
   "execution_count": 15,
   "id": "ebd8e3b6-e70e-4911-ad2e-28a1cbc510ec",
   "metadata": {},
   "outputs": [
    {
     "data": {
      "text/plain": [
       "5871"
      ]
     },
     "execution_count": 15,
     "metadata": {},
     "output_type": "execute_result"
    }
   ],
   "source": [
    "len(seasonal_batting)"
   ]
  }
 ],
 "metadata": {
  "kernelspec": {
   "display_name": "Python 3 (ipykernel)",
   "language": "python",
   "name": "python3"
  },
  "language_info": {
   "codemirror_mode": {
    "name": "ipython",
    "version": 3
   },
   "file_extension": ".py",
   "mimetype": "text/x-python",
   "name": "python",
   "nbconvert_exporter": "python",
   "pygments_lexer": "ipython3",
   "version": "3.9.13"
  }
 },
 "nbformat": 4,
 "nbformat_minor": 5
}
