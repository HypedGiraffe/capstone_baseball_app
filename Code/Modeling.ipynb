{
 "cells": [
  {
   "cell_type": "markdown",
   "id": "5047f7df-6559-4bc4-a0e4-2fdcf2e958fb",
   "metadata": {},
   "source": [
    "### Importing"
   ]
  },
  {
   "cell_type": "code",
   "execution_count": 24,
   "id": "15230b5c-92ed-4e48-baa3-731444d3b692",
   "metadata": {},
   "outputs": [],
   "source": [
    "import pandas as pd\n",
    "import numpy as np\n",
    "import seaborn as sns\n",
    "import warnings\n",
    "\n",
    "from sklearn.linear_model import LinearRegression, Lasso, RidgeCV, LassoCV, Ridge\n",
    "from sklearn.model_selection import train_test_split, cross_val_score, GridSearchCV\n",
    "from sklearn.preprocessing import PolynomialFeatures, StandardScaler\n",
    "from sklearn.neighbors import KNeighborsClassifier\n",
    "from sklearn.metrics import r2_score, mean_squared_error\n",
    "from sklearn.pipeline import Pipeline\n",
    "from sklearn.neighbors import KNeighborsClassifier\n",
    "\n",
    "import streamlit as st"
   ]
  },
  {
   "cell_type": "code",
   "execution_count": 54,
   "id": "f4b69db5-283d-43a9-9314-761b4b4a0d95",
   "metadata": {},
   "outputs": [],
   "source": [
    "#Reading in seasonal data\n",
    "seasonal = pd.read_csv('./season.csv')\n",
    "seasonal_2020 = pd.read_csv('./season_2020.csv')"
   ]
  },
  {
   "cell_type": "code",
   "execution_count": 50,
   "id": "fe0b30c2-93ae-4129-962b-26d4bf7a5593",
   "metadata": {},
   "outputs": [
    {
     "data": {
      "text/plain": [
       "3368"
      ]
     },
     "execution_count": 50,
     "metadata": {},
     "output_type": "execute_result"
    }
   ],
   "source": [
    "len(seasonal)"
   ]
  },
  {
   "cell_type": "code",
   "execution_count": 49,
   "id": "746c1108-869a-4545-abcd-7ed0fc6ad671",
   "metadata": {},
   "outputs": [
    {
     "data": {
      "text/plain": [
       "1998    96\n",
       "1984    94\n",
       "2011    94\n",
       "2005    93\n",
       "2010    92\n",
       "2003    92\n",
       "1988    91\n",
       "1982    90\n",
       "1980    89\n",
       "1994    89\n",
       "1999    89\n",
       "2004    89\n",
       "2012    88\n",
       "1981    88\n",
       "2008    88\n",
       "2014    88\n",
       "1983    88\n",
       "1993    87\n",
       "2000    87\n",
       "2002    85\n",
       "2001    84\n",
       "1997    84\n",
       "2006    84\n",
       "1986    84\n",
       "1996    82\n",
       "1992    81\n",
       "2013    81\n",
       "2007    80\n",
       "1991    79\n",
       "1985    79\n",
       "1989    78\n",
       "1987    78\n",
       "2015    78\n",
       "2009    78\n",
       "1995    75\n",
       "1990    75\n",
       "2016    74\n",
       "2019    61\n",
       "2018    58\n",
       "2017    58\n",
       "2020    40\n",
       "Name: season, dtype: int64"
      ]
     },
     "execution_count": 49,
     "metadata": {},
     "output_type": "execute_result"
    }
   ],
   "source": [
    "seasonal['season'].value_counts()"
   ]
  },
  {
   "cell_type": "code",
   "execution_count": null,
   "id": "3e21625b-b04c-423f-88b3-9e67e01b00cd",
   "metadata": {},
   "outputs": [],
   "source": [
    "def train_test_split():\n",
    "    X_train, X_val, y_train, y_val = train_test_split(\n",
    "        X,\n",
    "        y,\n",
    "        test_size = .2,\n",
    "        random_state = 34\n",
    ")\n",
    "    return X_train, X_val, y_train, y_val\n",
    "    "
   ]
  },
  {
   "cell_type": "code",
   "execution_count": 28,
   "id": "9b90e418-56c4-4f45-b8a0-374e8c5f027e",
   "metadata": {},
   "outputs": [],
   "source": [
    "def user_input(): \n",
    "    \n",
    "    metric_selection = []\n",
    "    \n",
    "    player_type = st.text_input(\"Enter 'Batter' or 'Pitcher': \")\n",
    "    \n",
    "    while metrics_selection[-1] != 'Stop':\n",
    "        \n",
    "        metrics_selection += st.text_input(\"Enter Metrics of Interest, enter 'stop' when finished.\")\n",
    "    \n",
    "    #Want to add a for while loop that verifies a valid input was entered\n",
    "    response = st.text_input(\"Enter the statistic you would like to predict: \")\n",
    "    \n",
    "    return player_type, metric_selection, response"
   ]
  },
  {
   "cell_type": "code",
   "execution_count": null,
   "id": "884f12d9-2743-4c40-9848-a295a8a7db3f",
   "metadata": {},
   "outputs": [],
   "source": [
    "def output_for_user(metrics, ptype, resp, preds, score):\n",
    "    \n",
    "    #Function for outputing the results of the user's model\n",
    "    #Will Display the prediction for the chosen response\n",
    "    #As well as a brief description of how effective their model was"
   ]
  },
  {
   "cell_type": "code",
   "execution_count": 14,
   "id": "e10fca50-6625-4f23-a2c9-ada7e1c3826a",
   "metadata": {},
   "outputs": [],
   "source": [
    "def main(batter_data, pitcher_data):\n",
    "    \n",
    "    #First, want to get the user's input\n",
    "    ptype, chosen_metrics, resp = user_input()\n",
    "    \n",
    "    #Next, create a model using given info\n",
    "    \n",
    "\n"
   ]
  },
  {
   "cell_type": "code",
   "execution_count": 38,
   "id": "cfe23743-3ced-4ea3-8158-a9fb1d256dac",
   "metadata": {},
   "outputs": [],
   "source": [
    "#Test Regression, will be deleted\n",
    "#Using ERA, K/9, Games -> To Predict WAR\n",
    "X = pd.DataFrame()\n",
    "X['era'] = seasonal['era']\n",
    "X['k/9'] = seasonal['k/9']\n",
    "X['g'] = seasonal['g']\n",
    "X['age'] = seasonal['age']\n",
    "\n",
    "y = seasonal['war']"
   ]
  },
  {
   "cell_type": "code",
   "execution_count": 39,
   "id": "32e9a396-1c73-4444-8a40-a46cbe5b6cbc",
   "metadata": {},
   "outputs": [],
   "source": [
    "#We intialize our train_test_split, dividing our train data into 80% and 20%\n",
    "X_train, X_val, y_train, y_val = train_test_split(\n",
    "    X,\n",
    "    y,\n",
    "    test_size = .2,\n",
    "    random_state = 34\n",
    ")"
   ]
  },
  {
   "cell_type": "code",
   "execution_count": 40,
   "id": "58880ec8-ae00-4357-8f97-2510b0e62b2d",
   "metadata": {},
   "outputs": [
    {
     "data": {
      "text/plain": [
       "((2694, 4), (674, 4))"
      ]
     },
     "execution_count": 40,
     "metadata": {},
     "output_type": "execute_result"
    }
   ],
   "source": [
    "X_train.shape, X_val.shape"
   ]
  },
  {
   "cell_type": "code",
   "execution_count": 41,
   "id": "c248cf5c-7810-410e-a1e1-571e39831330",
   "metadata": {},
   "outputs": [],
   "source": [
    "#Creates all the combinations of our variables\n",
    "poly = PolynomialFeatures(\n",
    "    degree = 2,\n",
    "    interaction_only = True,\n",
    "    include_bias = False\n",
    ")"
   ]
  },
  {
   "cell_type": "code",
   "execution_count": 42,
   "id": "c40e7b1e-366a-4e3e-9fea-9853f9980d95",
   "metadata": {},
   "outputs": [],
   "source": [
    "#Creating a prediction for saleprice with linear regression\n",
    "lr = LinearRegression()\n",
    "\n",
    "lr.fit(X_train ,y_train)\n",
    "\n",
    "preds = lr.predict(X_train)"
   ]
  },
  {
   "cell_type": "code",
   "execution_count": 43,
   "id": "ad1f3b49-ae78-410b-94a3-1d101b4587b7",
   "metadata": {},
   "outputs": [
    {
     "data": {
      "text/plain": [
       "array([-0.10044589,  1.99108859,  1.79424392, ...,  1.59869275,\n",
       "        1.92685581,  3.73603951])"
      ]
     },
     "execution_count": 43,
     "metadata": {},
     "output_type": "execute_result"
    }
   ],
   "source": [
    "preds"
   ]
  },
  {
   "cell_type": "code",
   "execution_count": 19,
   "id": "b4478303-9e16-46ca-bed6-c07c31db2253",
   "metadata": {},
   "outputs": [
    {
     "data": {
      "text/plain": [
       "2694"
      ]
     },
     "execution_count": 19,
     "metadata": {},
     "output_type": "execute_result"
    }
   ],
   "source": [
    "len(preds)"
   ]
  },
  {
   "cell_type": "code",
   "execution_count": 21,
   "id": "213ab5a1-0d1f-4cb0-881d-e3c1a81291d6",
   "metadata": {},
   "outputs": [
    {
     "data": {
      "text/plain": [
       "((2694, 3), (2694,), (674, 3), (674,))"
      ]
     },
     "execution_count": 21,
     "metadata": {},
     "output_type": "execute_result"
    }
   ],
   "source": [
    "X_train.shape, y_train.shape, X_val.shape, y_val.shape"
   ]
  },
  {
   "cell_type": "code",
   "execution_count": 18,
   "id": "9567d2bb-adab-49ea-9eb5-f3ed0bb02357",
   "metadata": {},
   "outputs": [
    {
     "data": {
      "text/plain": [
       "1.2462533782379839"
      ]
     },
     "execution_count": 18,
     "metadata": {},
     "output_type": "execute_result"
    }
   ],
   "source": [
    "mean_squared_error(preds, y_train)"
   ]
  },
  {
   "cell_type": "code",
   "execution_count": 44,
   "id": "48d9a154-96a6-45f7-b1a8-c50d57a91a48",
   "metadata": {},
   "outputs": [],
   "source": [
    "pipe = Pipeline(\n",
    "    steps = [\n",
    "        ('poly', PolynomialFeatures()),\n",
    "        ('ss', StandardScaler()),\n",
    "        ('lr', LinearRegression())\n",
    "    ]\n",
    ")"
   ]
  },
  {
   "cell_type": "code",
   "execution_count": 45,
   "id": "0248e455-c6b8-4da5-91fa-ce4f404a37fa",
   "metadata": {},
   "outputs": [
    {
     "data": {
      "text/plain": [
       "Pipeline(steps=[('poly', PolynomialFeatures()), ('ss', StandardScaler()),\n",
       "                ('lr', LinearRegression())])"
      ]
     },
     "execution_count": 45,
     "metadata": {},
     "output_type": "execute_result"
    }
   ],
   "source": [
    "pipe.fit(X_train, y_train)"
   ]
  },
  {
   "cell_type": "code",
   "execution_count": 46,
   "id": "15d299d2-ecce-42f8-8f08-70631f8a6d7e",
   "metadata": {},
   "outputs": [
    {
     "data": {
      "text/plain": [
       "0.5946475319361895"
      ]
     },
     "execution_count": 46,
     "metadata": {},
     "output_type": "execute_result"
    }
   ],
   "source": [
    "pipe.score(X_train, y_train)"
   ]
  },
  {
   "cell_type": "code",
   "execution_count": 47,
   "id": "868a9883-f349-4b5a-8044-d68e71ac7f5c",
   "metadata": {},
   "outputs": [
    {
     "data": {
      "text/plain": [
       "0.5018821782596194"
      ]
     },
     "execution_count": 47,
     "metadata": {},
     "output_type": "execute_result"
    }
   ],
   "source": [
    "pipe.score(X_val, y_val)"
   ]
  },
  {
   "cell_type": "code",
   "execution_count": 53,
   "id": "db15bdde-615b-4d4a-a0dd-aa3c770b251a",
   "metadata": {},
   "outputs": [
    {
     "data": {
      "text/plain": [
       "array([-0.10044589,  1.99108859,  1.79424392, ...,  1.59869275,\n",
       "        1.92685581,  3.73603951])"
      ]
     },
     "execution_count": 53,
     "metadata": {},
     "output_type": "execute_result"
    }
   ],
   "source": [
    "preds"
   ]
  },
  {
   "cell_type": "code",
   "execution_count": 57,
   "id": "446ce614-d39c-4ae0-905f-f1e057eec8c9",
   "metadata": {},
   "outputs": [
    {
     "data": {
      "text/plain": [
       "'Trevor Bauer'"
      ]
     },
     "execution_count": 57,
     "metadata": {},
     "output_type": "execute_result"
    }
   ],
   "source": [
    "seasonal_2020['name'][2]"
   ]
  },
  {
   "cell_type": "code",
   "execution_count": 60,
   "id": "ea0e3a81-785f-4afe-b405-a4d996b3f3d7",
   "metadata": {},
   "outputs": [],
   "source": [
    "name = []\n",
    "for i in range(0, 31):\n",
    "    name.append(seasonal_2020['name'][i])"
   ]
  },
  {
   "cell_type": "code",
   "execution_count": 64,
   "id": "a05b9f67-f954-4f61-9b52-1efa0ec845f1",
   "metadata": {},
   "outputs": [
    {
     "data": {
      "text/plain": [
       "31"
      ]
     },
     "execution_count": 64,
     "metadata": {},
     "output_type": "execute_result"
    }
   ],
   "source": [
    "len(name)"
   ]
  },
  {
   "cell_type": "code",
   "execution_count": null,
   "id": "1e4393e0-bdfc-4d2a-a711-af9354317951",
   "metadata": {},
   "outputs": [],
   "source": []
  },
  {
   "cell_type": "code",
   "execution_count": null,
   "id": "ca2824b2-5635-4559-be7e-6b1e46ca297c",
   "metadata": {},
   "outputs": [],
   "source": []
  }
 ],
 "metadata": {
  "kernelspec": {
   "display_name": "Python 3 (ipykernel)",
   "language": "python",
   "name": "python3"
  },
  "language_info": {
   "codemirror_mode": {
    "name": "ipython",
    "version": 3
   },
   "file_extension": ".py",
   "mimetype": "text/x-python",
   "name": "python",
   "nbconvert_exporter": "python",
   "pygments_lexer": "ipython3",
   "version": "3.9.13"
  }
 },
 "nbformat": 4,
 "nbformat_minor": 5
}
