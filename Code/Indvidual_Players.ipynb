{
 "cells": [
  {
   "cell_type": "code",
   "execution_count": 22,
   "id": "ee7e80b5-dbe5-49b9-8622-eebafc18bfcd",
   "metadata": {},
   "outputs": [],
   "source": [
    "import numpy as np\n",
    "import pandas as pd\n",
    "import statsmodels.api as sm\n",
    "import matplotlib.pyplot as plt\n",
    "from statsmodels.tsa.stattools import adfuller\n",
    "from sklearn.model_selection import train_test_split\n",
    "from sklearn.metrics import mean_squared_error\n",
    "from statsmodels.tsa.base.datetools import dates_from_str\n",
    "from statsmodels.tsa.api import VAR\n",
    "\n",
    "from sklearn.metrics import mean_squared_error\n",
    "\n",
    "from pandas.plotting import register_matplotlib_converters\n",
    "register_matplotlib_converters()\n",
    "\n",
    "%matplotlib inline"
   ]
  },
  {
   "cell_type": "code",
   "execution_count": 38,
   "id": "fd7f653c-29e8-4cb3-819f-1d9c8798ca8a",
   "metadata": {},
   "outputs": [],
   "source": [
    "%store -r pitched_2022\n",
    "%store -r bat_2022"
   ]
  },
  {
   "cell_type": "code",
   "execution_count": 39,
   "id": "b05028af-72f7-4cf3-b0e7-f2ccde750c99",
   "metadata": {},
   "outputs": [],
   "source": [
    "#Sends all season by season data, by dataframe, for pitchers with >10 seasons and who played in 2022, to a folder\n",
    "for i in range(0, len(pitched_2022)):\n",
    "    pitched_2022[i].to_csv(f\"../Individ_Data/Pitcher/{pitched_2022[i]['Name'][2022]}.csv\", index = True)"
   ]
  },
  {
   "cell_type": "code",
   "execution_count": 42,
   "id": "f1ba66c4-5973-4d45-88e3-0aa0d81c8e0c",
   "metadata": {},
   "outputs": [],
   "source": [
    "#Sends all season by season data, by dataframe, for batters with >10 seasons and who played in 2022, to a folder\n",
    "for i in range(0, len(bat_2022)):\n",
    "    bat_2022[i].to_csv(f\"../Individ_Data/Batter/{bat_2022[i]['Name'][2022]}.csv\", index = True)"
   ]
  },
  {
   "cell_type": "markdown",
   "id": "52862522-e402-455b-bde6-0388b31d3ebf",
   "metadata": {},
   "source": [
    "### Testing Stuff"
   ]
  },
  {
   "cell_type": "code",
   "execution_count": 17,
   "id": "0647f793-f8fa-44bb-9f38-9d4180aece0e",
   "metadata": {},
   "outputs": [],
   "source": [
    "df = pd.read_csv('../Individ_Data/Kevin Gausman.csv')"
   ]
  },
  {
   "cell_type": "code",
   "execution_count": 19,
   "id": "bcf0a00e-69f0-47b1-a533-2c9c34f5ff21",
   "metadata": {},
   "outputs": [],
   "source": [
    "df.set_index('Date', inplace=True)"
   ]
  },
  {
   "cell_type": "code",
   "execution_count": 23,
   "id": "f12abec8-8fbd-406c-8812-a3a2e20f9b96",
   "metadata": {},
   "outputs": [],
   "source": [
    "def interpret_dftest(dftest):\n",
    "    dfoutput = pd.Series(dftest[0:2], index=['Test Statistic','p-value'])\n",
    "    return dfoutput"
   ]
  },
  {
   "cell_type": "code",
   "execution_count": null,
   "id": "f5307b4f-1599-4868-96c0-c5fcd7f06c3e",
   "metadata": {},
   "outputs": [],
   "source": []
  },
  {
   "cell_type": "code",
   "execution_count": 34,
   "id": "40cdf4b1-238d-45b3-852a-b240d206f5c8",
   "metadata": {},
   "outputs": [],
   "source": [
    "x = interpret_dftest(adfuller(test[0]))"
   ]
  },
  {
   "cell_type": "code",
   "execution_count": 35,
   "id": "c3918e26-ed3a-4e0e-a381-778b425f84ed",
   "metadata": {},
   "outputs": [
    {
     "data": {
      "text/plain": [
       "Test Statistic   -0.674164\n",
       "p-value           0.853329\n",
       "dtype: float64"
      ]
     },
     "execution_count": 35,
     "metadata": {},
     "output_type": "execute_result"
    }
   ],
   "source": [
    "x"
   ]
  },
  {
   "cell_type": "code",
   "execution_count": 37,
   "id": "5eb52ca4-96ee-4ee2-abf8-d22fa55b0152",
   "metadata": {},
   "outputs": [
    {
     "data": {
      "text/plain": [
       "0.853328758757568"
      ]
     },
     "execution_count": 37,
     "metadata": {},
     "output_type": "execute_result"
    }
   ],
   "source": [
    "interpret_dftest(adfuller(test[0]))[1] "
   ]
  },
  {
   "cell_type": "code",
   "execution_count": 32,
   "id": "2932a49a-1108-476b-b937-e1ea43fda8f4",
   "metadata": {},
   "outputs": [],
   "source": [
    "test = []\n",
    "test.append(df['WAR'])"
   ]
  },
  {
   "cell_type": "code",
   "execution_count": 33,
   "id": "22692c52-497e-46b9-8238-232dcf67f249",
   "metadata": {},
   "outputs": [
    {
     "data": {
      "text/plain": [
       "[Date\n",
       " 2013    0.4\n",
       " 2014    2.0\n",
       " 2015    1.5\n",
       " 2016    3.1\n",
       " 2017    2.6\n",
       " 2018    2.3\n",
       " 2019    1.6\n",
       " 2020    1.6\n",
       " 2021    4.8\n",
       " 2022    5.7\n",
       " Name: WAR, dtype: float64]"
      ]
     },
     "execution_count": 33,
     "metadata": {},
     "output_type": "execute_result"
    }
   ],
   "source": []
  },
  {
   "cell_type": "code",
   "execution_count": null,
   "id": "54ba3b89-1d5b-414b-bf77-3ce7b58f67af",
   "metadata": {},
   "outputs": [],
   "source": []
  }
 ],
 "metadata": {
  "kernelspec": {
   "display_name": "Python 3 (ipykernel)",
   "language": "python",
   "name": "python3"
  },
  "language_info": {
   "codemirror_mode": {
    "name": "ipython",
    "version": 3
   },
   "file_extension": ".py",
   "mimetype": "text/x-python",
   "name": "python",
   "nbconvert_exporter": "python",
   "pygments_lexer": "ipython3",
   "version": "3.9.13"
  }
 },
 "nbformat": 4,
 "nbformat_minor": 5
}
