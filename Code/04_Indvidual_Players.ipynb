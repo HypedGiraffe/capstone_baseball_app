{
 "cells": [
  {
   "cell_type": "code",
   "execution_count": 22,
   "id": "ee7e80b5-dbe5-49b9-8622-eebafc18bfcd",
   "metadata": {},
   "outputs": [],
   "source": [
    "import numpy as np\n",
    "import pandas as pd\n",
    "%matplotlib inline"
   ]
  },
  {
   "cell_type": "markdown",
   "id": "593fd614-2ba9-4d53-9fd8-ecf823a68a5b",
   "metadata": {},
   "source": [
    "### Preparing Indvidual Player DataFrames"
   ]
  },
  {
   "cell_type": "code",
   "execution_count": 38,
   "id": "fd7f653c-29e8-4cb3-819f-1d9c8798ca8a",
   "metadata": {},
   "outputs": [],
   "source": [
    "#Brings in stored lists of dataframes\n",
    "%store -r pitched_2022\n",
    "%store -r bat_2022"
   ]
  },
  {
   "cell_type": "code",
   "execution_count": 39,
   "id": "b05028af-72f7-4cf3-b0e7-f2ccde750c99",
   "metadata": {},
   "outputs": [],
   "source": [
    "#Sends all season by season data, by dataframe, for pitchers with >10 seasons and who played in 2022, to a folder\n",
    "for i in range(0, len(pitched_2022)):\n",
    "    pitched_2022[i].to_csv(f\"../Individ_Data/Pitcher/{pitched_2022[i]['Name'][2022]}.csv\", index = True)"
   ]
  },
  {
   "cell_type": "code",
   "execution_count": 42,
   "id": "f1ba66c4-5973-4d45-88e3-0aa0d81c8e0c",
   "metadata": {},
   "outputs": [],
   "source": [
    "#Sends all season by season data, by dataframe, for batters with >10 seasons and who played in 2022, to a folder\n",
    "for i in range(0, len(bat_2022)):\n",
    "    bat_2022[i].to_csv(f\"../Individ_Data/Batter/{bat_2022[i]['Name'][2022]}.csv\", index = True)"
   ]
  }
 ],
 "metadata": {
  "kernelspec": {
   "display_name": "Python 3 (ipykernel)",
   "language": "python",
   "name": "python3"
  },
  "language_info": {
   "codemirror_mode": {
    "name": "ipython",
    "version": 3
   },
   "file_extension": ".py",
   "mimetype": "text/x-python",
   "name": "python",
   "nbconvert_exporter": "python",
   "pygments_lexer": "ipython3",
   "version": "3.9.13"
  }
 },
 "nbformat": 4,
 "nbformat_minor": 5
}
